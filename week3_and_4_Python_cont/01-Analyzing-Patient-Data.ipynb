{
 "cells": [
  {
   "cell_type": "markdown",
   "metadata": {},
   "source": [
    "# Part 1. Analyzing Patient Data\n",
    "Adapted from [Programming with Python](http://swcarpentry.github.io/python-novice-inflammation/), [copyright © Software Carpentry](http://swcarpentry.github.io/python-novice-inflammation/license/), under the Creative Commons license [CC BY 4.0](https://creativecommons.org/licenses/by/4.0/)."
   ]
  },
  {
   "cell_type": "markdown",
   "metadata": {},
   "source": [
    "### Questions\n",
    "- How can I process tabular data files in Python?\n",
    "\n",
    "### Objectives\n",
    "- Explain what a library is, and what libraries are used for.\n",
    "- Import a Python library and use the functions it contains.\n",
    "- Read tabular data from a file into a program.\n",
    "- Assign values to variables.\n",
    "- Select individual values and subsections from data.\n",
    "- Perform operations on arrays of data.\n",
    "- Plot simple graphs from data.\n",
    "\n",
    "In this lesson we will learn how to manipulate the inflammation dataset with Python. But before we discuss how to deal with many data points, we will show how to store a single value on the computer."
   ]
  },
  {
   "cell_type": "markdown",
   "metadata": {},
   "source": [
    "## Variables\n",
    "\n",
    "The line below [assigns](http://swcarpentry.github.io/python-novice-inflammation/reference/#assign) the value `55` to a **variable** `weight_kg`:\n",
    "```Python\n",
    "weight_kg = 55\n",
    "```"
   ]
  },
  {
   "cell_type": "code",
   "execution_count": 2,
   "metadata": {
    "collapsed": true
   },
   "outputs": [],
   "source": []
  },
  {
   "cell_type": "markdown",
   "metadata": {},
   "source": [
    "A variable is just a name for a value,\n",
    "such as `x`, `current_temperature`, or `subject_id`.\n",
    "Python's variables must begin with a letter and are **case sensitive**.\n",
    "We can create a new variable by assigning a value to it using `=`.\n",
    "When we are finished typing and press Shift+Enter, the notebook runs our command."
   ]
  },
  {
   "cell_type": "markdown",
   "metadata": {},
   "source": [
    "Once a variable has a value, we can print it to the screen:\n",
    "```Python\n",
    "print(weight_kg)\n",
    "```"
   ]
  },
  {
   "cell_type": "code",
   "execution_count": 3,
   "metadata": {
    "collapsed": false
   },
   "outputs": [
    {
     "name": "stdout",
     "output_type": "stream",
     "text": [
      "55\n"
     ]
    }
   ],
   "source": []
  },
  {
   "cell_type": "markdown",
   "metadata": {},
   "source": [
    "and do arithmetic with it:\n",
    "```Python\n",
    "print('weight in pounds:', 2.2 * weight_kg)\n",
    "```"
   ]
  },
  {
   "cell_type": "code",
   "execution_count": 4,
   "metadata": {
    "collapsed": false
   },
   "outputs": [
    {
     "name": "stdout",
     "output_type": "stream",
     "text": [
      "weight in pounds: 121.00000000000001\n"
     ]
    }
   ],
   "source": []
  },
  {
   "cell_type": "markdown",
   "metadata": {},
   "source": [
    "We can also change a variable's value by assigning it a new one:\n",
    "```Python\n",
    "weight_kg = 57.5\n",
    "print('weight in kilograms is now:', weight_kg)\n",
    "```"
   ]
  },
  {
   "cell_type": "code",
   "execution_count": 5,
   "metadata": {
    "collapsed": false
   },
   "outputs": [
    {
     "name": "stdout",
     "output_type": "stream",
     "text": [
      "weight in kilograms is now: 57.5\n"
     ]
    }
   ],
   "source": []
  },
  {
   "cell_type": "markdown",
   "metadata": {},
   "source": [
    "As the example above shows,\n",
    "we can print several things at once by separating them with commas.\n",
    "\n",
    "If we imagine the variable as a sticky note with a name written on it,\n",
    "assignment is like putting the sticky note on a particular value:\n",
    "\n",
    "![Variables as Sticky Notes](./images/python-sticky-note-variables-01.png)\n",
    "\n",
    "This means that assigning a value to one variable does *not* change the values of other variables.\n",
    "For example,\n",
    "let's store the subject's weight in pounds in a variable:\n",
    "```Python\n",
    "weight_lb = 2.2 * weight_kg\n",
    "print('weight in kilograms:',\n",
    "      weight_kg, 'and in pounds:', weight_lb)\n",
    "```"
   ]
  },
  {
   "cell_type": "code",
   "execution_count": 6,
   "metadata": {
    "collapsed": false
   },
   "outputs": [
    {
     "name": "stdout",
     "output_type": "stream",
     "text": [
      "weight in kilograms: 57.5 and in pounds: 126.50000000000001\n"
     ]
    }
   ],
   "source": []
  },
  {
   "cell_type": "markdown",
   "metadata": {},
   "source": [
    "![Creating Another Variable](./images/python-sticky-note-variables-02.png)\n",
    "\n",
    "and then change `weight_kg`:\n",
    "```Python\n",
    "weight_kg = 100.0\n",
    "print('weight in kilograms is now:',\n",
    "      weight_kg, 'and weight in pounds is still:', weight_lb)\n",
    "```"
   ]
  },
  {
   "cell_type": "code",
   "execution_count": 7,
   "metadata": {
    "collapsed": false
   },
   "outputs": [
    {
     "name": "stdout",
     "output_type": "stream",
     "text": [
      "weight in kilograms is now: 100.0 and weight in pounds is still: 126.50000000000001\n"
     ]
    }
   ],
   "source": []
  },
  {
   "cell_type": "markdown",
   "metadata": {},
   "source": [
    "![Updating a Variable](./images/python-sticky-note-variables-03.png)\n",
    "\n",
    "Since `weight_lb` doesn't \"remember\" where its value came from,\n",
    "it isn't automatically updated when `weight_kg` changes.\n",
    "This is different from the way spreadsheets work."
   ]
  },
  {
   "cell_type": "markdown",
   "metadata": {},
   "source": [
    "> ### Who's Who in Memory\n",
    ">\n",
    "> You can use the `%whos` command at any time to see what\n",
    "> variables you have created and what modules you have loaded into the computer's memory.\n",
    "> As this is an IPython command, it will only work if you are in an IPython terminal or the\n",
    "> Jupyter Notebook.\n",
    "\n",
    "```Python\n",
    "%whos\n",
    "```"
   ]
  },
  {
   "cell_type": "code",
   "execution_count": 8,
   "metadata": {
    "collapsed": false
   },
   "outputs": [
    {
     "name": "stdout",
     "output_type": "stream",
     "text": [
      "Variable    Type     Data/Info\n",
      "------------------------------\n",
      "weight_kg   float    100.0\n",
      "weight_lb   float    126.50000000000001\n"
     ]
    }
   ],
   "source": []
  },
  {
   "cell_type": "markdown",
   "metadata": {},
   "source": [
    "## Loading libraries\n",
    "\n",
    "Words are useful,\n",
    "but what's more useful are the sentences and stories we build with them.\n",
    "Similarly,\n",
    "while a lot of powerful, general tools are built into languages like Python,\n",
    "specialized tools built up from these basic units live in [libraries](http://swcarpentry.github.io/python-novice-inflammation/reference/#library) that can be called upon when needed.\n",
    "\n",
    "In order to load our inflammation data, we need to access ([import](http://swcarpentry.github.io/python-novice-inflammation/reference/#import) in Python terminology) a library called NumPy. In general you should use this library if you want to do fancy things with numbers, especially if you have matrices or arrays. We can import NumPy using:\n",
    "```Python\n",
    "import numpy\n",
    "```"
   ]
  },
  {
   "cell_type": "code",
   "execution_count": 11,
   "metadata": {
    "collapsed": true
   },
   "outputs": [],
   "source": []
  },
  {
   "cell_type": "markdown",
   "metadata": {},
   "source": [
    "Importing a library is like getting a piece of lab equipment out of a storage locker\n",
    "and setting it up on the bench. Libraries provide additional functionality to the basic Python package, much like a new piece of equipment adds functionality to a lab space.\n",
    "Once you've loaded the library,\n",
    "we can ask the library to read our data file for us:\n",
    "\n",
    "```Python\n",
    "numpy.loadtxt(fname='../data/inflammation-01.csv', delimiter=',')\n",
    "```"
   ]
  },
  {
   "cell_type": "code",
   "execution_count": null,
   "metadata": {
    "collapsed": true
   },
   "outputs": [],
   "source": []
  },
  {
   "cell_type": "markdown",
   "metadata": {},
   "source": [
    "The expression `numpy.loadtxt()` is a [function call](http://swcarpentry.github.io/python-novice-inflammation/reference/#function-call)\n",
    "that asks Python to run the [function](http://swcarpentry.github.io/python-novice-inflammation/reference/#function) `loadtxt` that belongs to the `numpy` library.\n",
    "This [dotted notation](http://swcarpentry.github.io/python-novice-inflammation/reference/#dotted-notation) is used everywhere in Python\n",
    "to refer to the parts of things as `thing.component`.\n",
    "\n",
    "`numpy.loadtxt` has two [parameters](http://swcarpentry.github.io/python-novice-inflammation/reference/#parameter):\n",
    "the name of the file we want to read,\n",
    "and the [delimiter](http://swcarpentry.github.io/python-novice-inflammation/reference/#delimiter) that separates values on a line.\n",
    "These both need to be character strings (or [strings](http://swcarpentry.github.io/python-novice-inflammation/reference/#string) for short),\n",
    "so we put them in quotes.\n",
    "\n",
    "When we are finished typing and press `Shift+Enter`,\n",
    "the notebook runs our command.\n",
    "Since we haven't told it to do anything else with the function's output,\n",
    "the notebook displays it.\n",
    "In this case,\n",
    "that output is the data we just loaded.\n",
    "By default,\n",
    "only a few rows and columns are shown\n",
    "(with `...` to omit elements when displaying big arrays).\n",
    "To save space,\n",
    "Python displays numbers as `1.` instead of `1.0`\n",
    "when there's nothing interesting after the decimal point.\n",
    "\n",
    "\n",
    "Our call to `numpy.loadtxt` read our file,\n",
    "but didn't save the data in memory.\n",
    "To do that,\n",
    "we need to assign the array to a variable. Just as we can assign a single value to a variable, we can also assign an array of values\n",
    "to a variable using the same syntax.  Let's re-run `numpy.loadtxt` and save its result:\n",
    "\n",
    "```Python\n",
    "data = numpy.loadtxt(fname='./data/inflammation-01.csv',\n",
    "                     delimiter=',')\n",
    "```"
   ]
  },
  {
   "cell_type": "code",
   "execution_count": 13,
   "metadata": {
    "collapsed": true
   },
   "outputs": [],
   "source": []
  },
  {
   "cell_type": "markdown",
   "metadata": {},
   "source": [
    "This statement doesn't produce any output because assignment doesn't display anything.\n",
    "If we want to check that our data has been loaded,\n",
    "we can print the variable's value:\n",
    "```Python\n",
    "print(data)\n",
    "```"
   ]
  },
  {
   "cell_type": "code",
   "execution_count": null,
   "metadata": {
    "collapsed": true
   },
   "outputs": [],
   "source": []
  },
  {
   "cell_type": "markdown",
   "metadata": {},
   "source": [
    "Now that our data is in memory,\n",
    "we can start doing things with it.\n",
    "First,\n",
    "let's ask what **type** of thing `data` refers to:\n",
    "```Python\n",
    "type(data)\n",
    "```"
   ]
  },
  {
   "cell_type": "code",
   "execution_count": null,
   "metadata": {
    "collapsed": true
   },
   "outputs": [],
   "source": []
  },
  {
   "cell_type": "markdown",
   "metadata": {},
   "source": [
    "The output tells us that `data` currently refers to an **n-dimensional array** created by the NumPy library. These data corresponds to arthritis patient's inflammation. The rows are the individual patients and the columns are there daily inflammation measurements."
   ]
  },
  {
   "cell_type": "markdown",
   "metadata": {},
   "source": [
    "> ### Data Type\n",
    ">\n",
    "> A Numpy array contains one or more elements\n",
    "> of the same type. `type` will only tell you that\n",
    "> a variable is a NumPy array.\n",
    "> We can also find out the type\n",
    "> of the data contained in the NumPy array.\n",
    ">\n",
    "> ```Python\n",
    "> print(data.dtype)\n",
    ">\n",
    "> dtype('float64') \n",
    "> ```\n",
    ">\n",
    "> This tells us that the NumPy array's elements are\n",
    "> [floating-point numbers](http://swcarpentry.github.io/python-novice-inflammation/reference/#floating-point-number)."
   ]
  },
  {
   "cell_type": "markdown",
   "metadata": {},
   "source": [
    "We can see what its **shape** is like this:\n",
    "```Python\n",
    "data.shape\n",
    "```"
   ]
  },
  {
   "cell_type": "code",
   "execution_count": null,
   "metadata": {
    "collapsed": true
   },
   "outputs": [],
   "source": []
  },
  {
   "cell_type": "markdown",
   "metadata": {},
   "source": [
    "This tells us that `data` has 60 rows and 40 columns. When we created the\n",
    "variable `data` to store our arthritis data, we didn't just create the array, we also\n",
    "created information about the array, called \n",
    "[members](http://swcarpentry.github.io/python-novice-inflammation/reference/#member) or attributes. This extra information describes `data` in\n",
    "the same way an adjective describes a noun.\n",
    "`data.shape` is an attribute  of `data` which described the dimensions of `data`.\n",
    "We use the same dotted notation for the attributes of variables\n",
    "that we use for the functions in libraries\n",
    "because they have the same part-and-whole relationship.\n",
    "\n",
    "If we want to get a single number from the array,\n",
    "we must provide an [index](http://swcarpentry.github.io/python-novice-inflammation/reference/#index) in square brackets,\n",
    "just as we do in math. Our inflammation data has two dimensions, so we will need to use two indices to refer to a value:\n",
    "```Python\n",
    "print('first value in data:', data[0, 0])\n",
    "```"
   ]
  },
  {
   "cell_type": "code",
   "execution_count": null,
   "metadata": {
    "collapsed": true
   },
   "outputs": [],
   "source": []
  },
  {
   "cell_type": "markdown",
   "metadata": {},
   "source": [
    "```Python\n",
    "print('middle value in data:', data[30, 20])\n",
    "```"
   ]
  },
  {
   "cell_type": "code",
   "execution_count": null,
   "metadata": {
    "collapsed": true
   },
   "outputs": [],
   "source": []
  },
  {
   "cell_type": "markdown",
   "metadata": {},
   "source": [
    "The expression `data[30, 20]` may not surprise you,\n",
    "but `data[0, 0]` might.\n",
    "Programming languages like Fortran and MATLAB start counting at 1,\n",
    "because that's what human beings have done for thousands of years.\n",
    "Languages in the C family (including C++, Java, Perl, and Python) count from 0 because it represents an offset from the first value in the array (the second value is offset by one index from the first value).\n",
    "This is closer to the way that computers represent arrays (if you are interested in the historical reasons behind counting indices from zero, you can read [Mike Hoye’s blog post](http://exple.tive.org/blarg/2013/10/22/citation-needed/)).\n",
    "As a result,\n",
    "if we have an M&times;N array in Python,\n",
    "its indices go from 0 to M-1 on the first axis\n",
    "and 0 to N-1 on the second.\n",
    "It takes a bit of getting used to,\n",
    "but one way to remember the rule is that\n",
    "the index is ***how many steps we have to take from the start to get the item we want***.\n",
    "\n",
    "![array](./images/python-zero-index.png)"
   ]
  },
  {
   "cell_type": "markdown",
   "metadata": {},
   "source": [
    "An index like `[30, 20]` selects a single element of an array,\n",
    "but we can select whole sections as well.\n",
    "For example,\n",
    "we can select the first ten days (columns) of values\n",
    "for the first four patients (rows) like this:\n",
    "```Python\n",
    "print(\"Patients 1-4, days 1-10\")\n",
    "print(data[0:4, 0:10])\n",
    "```"
   ]
  },
  {
   "cell_type": "code",
   "execution_count": 14,
   "metadata": {
    "collapsed": false
   },
   "outputs": [
    {
     "name": "stdout",
     "output_type": "stream",
     "text": [
      "Patients 1-4, days 1-10\n",
      "[[ 0.  0.  1.  3.  1.  2.  4.  7.  8.  3.]\n",
      " [ 0.  1.  2.  1.  2.  1.  3.  2.  2.  6.]\n",
      " [ 0.  1.  1.  3.  3.  2.  6.  2.  5.  9.]\n",
      " [ 0.  0.  2.  0.  4.  2.  2.  1.  6.  7.]]\n"
     ]
    }
   ],
   "source": []
  },
  {
   "cell_type": "markdown",
   "metadata": {},
   "source": [
    "The **slice** `0:4` means,\n",
    "***\"Start at index 0 and go up to, but not including, index 4.\"***\n",
    "Again,\n",
    "the up-to-but-not-including takes a bit of getting used to,\n",
    "but the rule is that the difference between the upper and lower bounds is the number of values in the slice.\n",
    "\n",
    "We don't have to start slices at 0:\n",
    "```Python\n",
    "print(\"Patients 6-10, days 1-10\"\n",
    "print(data[5:10, 0:10])\n",
    "```"
   ]
  },
  {
   "cell_type": "code",
   "execution_count": null,
   "metadata": {
    "collapsed": true
   },
   "outputs": [],
   "source": []
  },
  {
   "cell_type": "markdown",
   "metadata": {},
   "source": [
    "We also don't have to include the upper and lower bound on the slice.\n",
    "If we don't include the lower bound,\n",
    "Python uses 0 by default;\n",
    "if we don't include the upper,\n",
    "the slice runs to the end of the axis,\n",
    "and if we don't include either\n",
    "(i.e., if we just use ':' on its own),\n",
    "the slice includes everything:\n",
    "```Python\n",
    "small = data[:3, 36:]\n",
    "print('patients 1-3, days 37-40')\n",
    "small\n",
    "```"
   ]
  },
  {
   "cell_type": "code",
   "execution_count": 15,
   "metadata": {
    "collapsed": false
   },
   "outputs": [
    {
     "name": "stdout",
     "output_type": "stream",
     "text": [
      "patients 1-3, days 36-40\n"
     ]
    },
    {
     "data": {
      "text/plain": [
       "array([[ 2.,  3.,  0.,  0.],\n",
       "       [ 1.,  1.,  0.,  1.],\n",
       "       [ 2.,  2.,  1.,  1.]])"
      ]
     },
     "execution_count": 15,
     "metadata": {},
     "output_type": "execute_result"
    }
   ],
   "source": []
  },
  {
   "cell_type": "markdown",
   "metadata": {},
   "source": [
    "Arrays also know how to perform common mathematical operations on their values.\n",
    "The simplest operations with data are arithmetic:\n",
    "add, subtract, multiply, and divide.\n",
    "When you do such operations between an array and a single value,\n",
    "the operation is done on each individual element of the array.\n",
    "We say that these are **element wise** operators.\n",
    "Thus:\n",
    "```Python\n",
    "doubledata = data * 2.0\n",
    "```"
   ]
  },
  {
   "cell_type": "code",
   "execution_count": null,
   "metadata": {
    "collapsed": true
   },
   "outputs": [],
   "source": []
  },
  {
   "cell_type": "markdown",
   "metadata": {},
   "source": [
    "will create a new array `doubledata`\n",
    "whose elements have the value of two times the value of the corresponding elements in `data`:\n",
    "```Python\n",
    "print('original:')\n",
    "data[:3, 36:]\n",
    "```"
   ]
  },
  {
   "cell_type": "code",
   "execution_count": null,
   "metadata": {
    "collapsed": true
   },
   "outputs": [],
   "source": []
  },
  {
   "cell_type": "markdown",
   "metadata": {},
   "source": [
    "```Python\n",
    "print('doubledata:')\n",
    "doubledata[:3, 36:]\n",
    "```"
   ]
  },
  {
   "cell_type": "code",
   "execution_count": null,
   "metadata": {
    "collapsed": true
   },
   "outputs": [],
   "source": []
  },
  {
   "cell_type": "markdown",
   "metadata": {},
   "source": [
    "If,\n",
    "instead of taking an array and doing arithmetic with a single value (as above)\n",
    "you did the arithmetic operation with another array of the same shape,\n",
    "the operation will be done on corresponding elements of the two arrays.\n",
    "Thus:\n",
    "```Python\n",
    "tripledata = doubledata + data\n",
    "```"
   ]
  },
  {
   "cell_type": "code",
   "execution_count": null,
   "metadata": {
    "collapsed": true
   },
   "outputs": [],
   "source": []
  },
  {
   "cell_type": "markdown",
   "metadata": {},
   "source": [
    "will give you an array where `tripledata[0,0]` will equal `doubledata[0,0]` plus `data[0,0]`,\n",
    "and so on for all other elements of the arrays.\n",
    "```Python\n",
    "print('tripledata:')\n",
    "tripledata[:3, 36:]\n",
    "```"
   ]
  },
  {
   "cell_type": "code",
   "execution_count": null,
   "metadata": {
    "collapsed": true
   },
   "outputs": [],
   "source": []
  },
  {
   "cell_type": "markdown",
   "metadata": {},
   "source": [
    "Often, we want to do more than add, subtract, multiply, and divide values of data.\n",
    "Arrays also know how to do more complex operations on their values.\n",
    "If we want to find the average inflammation for all patients on all days,\n",
    "for example, we can ask NumPy to compute `data`'s mean value:\n",
    "```Python\n",
    "print(numpy.mean(data))\n",
    "```"
   ]
  },
  {
   "cell_type": "code",
   "execution_count": null,
   "metadata": {
    "collapsed": true
   },
   "outputs": [],
   "source": []
  },
  {
   "cell_type": "markdown",
   "metadata": {},
   "source": [
    "`mean` is a [function](http://swcarpentry.github.io/python-novice-inflammation/reference/#function) that takes\n",
    "an array as an [argument](http://swcarpentry.github.io/python-novice-inflammation/reference/#argument).\n",
    "If variables are nouns, functions are verbs:\n",
    "they do things with variables."
   ]
  },
  {
   "cell_type": "markdown",
   "metadata": {},
   "source": [
    "> ## Not All Functions Have Input\n",
    ">\n",
    "> Generally, a function uses inputs to produce outputs.\n",
    "> However, some functions produce outputs without\n",
    "> needing any input. For example, checking the current time\n",
    "> doesn't require any input.\n",
    ">\n",
    "> \n",
    "> \n",
    "> ```Python\n",
    "> import time\n",
    "> print(time.ctime())\n",
    "> \n",
    "> 'Sat Mar 26 13:07:33 2016'\n",
    "> ```\n",
    "> \n",
    "> For functions that don't take in any arguments,\n",
    "> we still need parentheses (`()`)\n",
    "> to tell Python to go and do something for us."
   ]
  },
  {
   "cell_type": "markdown",
   "metadata": {},
   "source": [
    "NumPy has lots of useful functions that take an array as input.\n",
    "Let's use three of those functions to get some descriptive values about the dataset.\n",
    "We'll also use multiple assignment,\n",
    "a convenient Python feature that will enable us to do this all in one line.\n",
    "\n",
    "```Python\n",
    "maxval, minval, stdval = numpy.max(data), numpy.min(data), numpy.std(data)\n",
    "\n",
    "print('maximum inflammation:', maxval)\n",
    "print('minimum inflammation:', minval)\n",
    "print('standard deviation:', stdval)\n",
    "```"
   ]
  },
  {
   "cell_type": "code",
   "execution_count": null,
   "metadata": {
    "collapsed": true
   },
   "outputs": [],
   "source": []
  },
  {
   "cell_type": "markdown",
   "metadata": {},
   "source": [
    "> ### Mystery Functions in Jupyter / IPython\n",
    ">\n",
    "> How did we know what functions NumPy has and how to use them?\n",
    "> If you are working in the IPython/Jupyter Notebook there is an easy way to find out.\n",
    "> If you type the name of something followed by a dot, then you can use tab completion\n",
    "> (e.g. type `numpy.` and then press tab)\n",
    "> to see a list of all functions and attributes that you can use. After selecting one you\n",
    "> can also add a question mark (e.g. `numpy.cumprod?`) and Jupyter/IPython will return an\n",
    "> explanation of the method! This is the same as doing `help(numpy.cumprod)`."
   ]
  },
  {
   "cell_type": "markdown",
   "metadata": {},
   "source": [
    "When analyzing data,\n",
    "though,\n",
    "we often want to look at partial statistics,\n",
    "such as the maximum value per patient\n",
    "or the average value per day.\n",
    "One way to do this is to create a new temporary array of the data we want,\n",
    "then ask it to do the calculation:\n",
    "\n",
    "```Python\n",
    "# get 0 on the first axis, everything on the second\n",
    "# i.e. row 0, every column\n",
    "patient_0 = data[0, :] \n",
    "\n",
    "print('maximum inflammation for patient 0:', patient_0.max())\n",
    "```"
   ]
  },
  {
   "cell_type": "code",
   "execution_count": null,
   "metadata": {
    "collapsed": true
   },
   "outputs": [],
   "source": []
  },
  {
   "cell_type": "markdown",
   "metadata": {},
   "source": [
    "> ### Comments\n",
    "> Everything in a line of code following the '#' symbol is a\n",
    "> [comment](http:/swcarpentry.github.io/python-novice-inflammation\n",
    "> /reference/#comment) that is ignored by Python.\n",
    "> ```Python\n",
    "> # get 0 on the first axis, everything on the second\n",
    "> # i.e. row 0, every column\n",
    "> patient_0 = data[0, :] \n",
    "> ```\n",
    "> Comments allow programmers to leave explanatory notes for other\n",
    "> programmers or their future selves."
   ]
  },
  {
   "cell_type": "markdown",
   "metadata": {},
   "source": [
    "We don't actually need to store the row in a variable of its own.\n",
    "Instead, we can combine the selection and the method call:\n",
    "```\n",
    "print('maximum inflammation for patient 2:', numpy.max(data[2, :]))\n",
    "```"
   ]
  },
  {
   "cell_type": "code",
   "execution_count": null,
   "metadata": {
    "collapsed": true
   },
   "outputs": [],
   "source": []
  },
  {
   "cell_type": "markdown",
   "metadata": {},
   "source": [
    "What if we need the maximum inflammation for *all* patients (as in the\n",
    "next diagram on the left), or the average for each day (as in the\n",
    "diagram on the right)? As the diagram below shows, we want to perform the\n",
    "operation across an axis:\n",
    "\n",
    "![Operations Across Axes](./images/python-operations-across-axes.png)\n",
    "\n",
    "To support this, most array functions allow us to specify the axis we want to work on. So to ask for the average across axis 0 (rows in our 2D example), we would say:  \n",
    "```Python\n",
    "print(numpy.mean(data, axis=0))\n",
    "```"
   ]
  },
  {
   "cell_type": "code",
   "execution_count": null,
   "metadata": {
    "collapsed": true
   },
   "outputs": [],
   "source": []
  },
  {
   "cell_type": "markdown",
   "metadata": {},
   "source": [
    "As a quick check,\n",
    "we can ask this array what its shape is:  \n",
    "`data.mean(axis=0).shape`"
   ]
  },
  {
   "cell_type": "code",
   "execution_count": null,
   "metadata": {
    "collapsed": true
   },
   "outputs": [],
   "source": []
  },
  {
   "cell_type": "markdown",
   "metadata": {},
   "source": [
    "The expression `(40,)` tells us we have an N&times;1 vector,\n",
    "so this is the average inflammation per day for all patients.\n",
    "If we average across axis 1 (columns in our 2D example), we get:  \n",
    "`data.mean(axis=1)`"
   ]
  },
  {
   "cell_type": "code",
   "execution_count": null,
   "metadata": {
    "collapsed": true
   },
   "outputs": [],
   "source": []
  },
  {
   "cell_type": "markdown",
   "metadata": {},
   "source": [
    "which is the average inflammation per patient across all days."
   ]
  },
  {
   "cell_type": "markdown",
   "metadata": {},
   "source": [
    "## Plotting Data\n",
    "\n",
    "The mathematician Richard Hamming once said,\n",
    "\"The purpose of computing is insight, not numbers,\"\n",
    "and the best way to develop insight is often to visualize data.\n",
    "Visualization deserves an entire lecture (or course) of its own,\n",
    "but we can explore a few features of Python's `matplotlib` library here.\n",
    "While there is no \"official\" plotting library,\n",
    "this package is the *de facto* standard.\n",
    "First,\n",
    "we will import the `pyplot` module from `matplotlib`\n",
    "and use two of its functions to create and display a heat map of our data:"
   ]
  },
  {
   "cell_type": "code",
   "execution_count": null,
   "metadata": {
    "collapsed": true
   },
   "outputs": [],
   "source": [
    "%matplotlib inline\n",
    "import matplotlib.pyplot as plt\n",
    "plt.imshow(data)"
   ]
  },
  {
   "cell_type": "markdown",
   "metadata": {},
   "source": [
    "Blue regions in this heat map are low values, while red shows high values.\n",
    "As we can see,\n",
    "inflammation rises and falls over a 40-day period."
   ]
  },
  {
   "cell_type": "markdown",
   "metadata": {},
   "source": [
    "> ## Scientists Dislike Typing\n",
    ">\n",
    "> Above we wrote\n",
    "> ```Python\n",
    "> import numpy\n",
    "> ```\n",
    ">\n",
    "> to import NumPy but we wrote\n",
    ">\n",
    "> ```Python\n",
    "> import matplotlib.pyplot as plt`\n",
    "> ```\n",
    "> to import matplotlib.\n",
    ">\n",
    "> Importing with an **alias** saves typing and that's why you\n",
    "> will frequently see it\n",
    "> [in examples](http://www.scipy.org/getting-started.html#an-example-script)  \n",
    "> There are agreed upon conventions for commonly used libraries.\n",
    "> For example, by convention the alias for `numpy` is `np`.\n",
    "> ```Python\n",
    "> import numpy as np`\n",
    "> ```\n",
    "> If you ever see Python code online using a NumPy function with `np`\n",
    "> (for example, `np.loadtxt(...)`), it's because they've used this shortcut.\n",
    "> When working with other people, it is important to agree on a convention of how common libraries are imported."
   ]
  },
  {
   "cell_type": "markdown",
   "metadata": {},
   "source": [
    "> ### Some IPython magic\n",
    ">\n",
    "> If you're using an IPython / Jupyter notebook,\n",
    "> you'll need to execute the following command\n",
    "> in order for your matplotlib images to appear\n",
    "> in the notebook:\n",
    ">\n",
    "> ```\n",
    "> % matplotlib inline\n",
    "> ```\n",
    ">  \n",
    "> The `%` indicates an IPython **magic function** -\n",
    "> a function that is only valid within the notebook environment.\n",
    "> Note that you only have to execute this function once per notebook."
   ]
  },
  {
   "cell_type": "markdown",
   "metadata": {},
   "source": [
    "Let's take a look at the average inflammation over time:\n",
    "```Python\n",
    "ave_inflammation = numpy.mean(data, axis=0)\n",
    "plt.plot(ave_inflammation)\n",
    "```"
   ]
  },
  {
   "cell_type": "code",
   "execution_count": null,
   "metadata": {
    "collapsed": true
   },
   "outputs": [],
   "source": []
  },
  {
   "cell_type": "markdown",
   "metadata": {},
   "source": [
    "Here,\n",
    "we have put the average per day across all patients in the variable `ave_inflammation`,\n",
    "then asked `matplotlib.pyplot` to create and display a line graph of those values.\n",
    "The result is roughly a linear rise and fall,\n",
    "which is suspicious:\n",
    "based on other studies,\n",
    "we expect a sharper rise and slower fall.\n",
    "Let's have a look at two other statistics:\n",
    "```Python\n",
    "plt.plot(data.max(axis=0))\n",
    "```"
   ]
  },
  {
   "cell_type": "code",
   "execution_count": null,
   "metadata": {
    "collapsed": true
   },
   "outputs": [],
   "source": []
  },
  {
   "cell_type": "markdown",
   "metadata": {},
   "source": [
    "```Python\n",
    "plt.plot(data.min(axis=0))\n",
    "```"
   ]
  },
  {
   "cell_type": "code",
   "execution_count": null,
   "metadata": {
    "collapsed": true
   },
   "outputs": [],
   "source": []
  },
  {
   "cell_type": "markdown",
   "metadata": {},
   "source": [
    "The maximum value rises and falls perfectly smoothly, while the minimum seems to be a step function. Neither result seems particularly likely, so either there’s a mistake in our calculations or something is wrong with our data. This insight would have been difficult to reach by examining the data without visualization tools."
   ]
  },
  {
   "cell_type": "markdown",
   "metadata": {},
   "source": [
    "### subplots\n",
    "\n",
    "\n",
    "You can group similar plots in a single figure using subplots.  \n",
    "This script below uses a number of new commands. The function `plt.figure()`\n",
    "creates a space into which we will place all of our plots. The parameter `figsize`\n",
    "tells Python how big to make this space. Each subplot is placed into the figure using\n",
    "its `add_subplot` [method]({{ page.root }}/reference/#method). The `add_subplot` method takes 3 parameters. The first denotes\n",
    "how many total rows of subplots there are, the second parameter refers to the\n",
    "total number of subplot columns, and the final parameter denotes which subplot\n",
    "your variable is referencing (left-to-right, top-to-bottom). Each subplot is stored in a\n",
    "different variable (`axes1`, `axes2`, `axes3`). Once a subplot is created, the axes can\n",
    "be titled using the `set_xlabel()` command (or `set_ylabel()`).\n",
    "Here are our three plots side by side:\n",
    "\n",
    "Using these new commands, here is our script that plots the three graphs side by side:\n",
    "\n",
    "```Python\n",
    "fig, axes = plt.subplots(1, 3, figsize=(10,3))\n",
    "\n",
    "axes[0].set_ylabel('average')\n",
    "axes[0].plot(data.mean(axis=0))\n",
    "\n",
    "axes[1].set_ylabel('max')\n",
    "axes[1].plot(data.max(axis=0))\n",
    "\n",
    "axes[2].set_ylabel('min')\n",
    "axes[2].plot(data.min(axis=0))\n",
    "\n",
    "fig.tight_layout();\n",
    "```"
   ]
  },
  {
   "cell_type": "code",
   "execution_count": null,
   "metadata": {
    "collapsed": true
   },
   "outputs": [],
   "source": []
  },
  {
   "cell_type": "markdown",
   "metadata": {},
   "source": [
    "The call to `loadtxt` reads our data,\n",
    "and the rest of the program tells the plotting library\n",
    "how large we want the figure to be,\n",
    "that we're creating three sub-plots,\n",
    "what to draw for each one,\n",
    "and that we want a tight layout.\n",
    "(Perversely,\n",
    "if we leave out that call to `fig.tight_layout()`,\n",
    "the graphs will actually be squeezed together more closely.)\n"
   ]
  },
  {
   "cell_type": "markdown",
   "metadata": {},
   "source": [
    "## Exercises"
   ]
  },
  {
   "cell_type": "markdown",
   "metadata": {},
   "source": [
    "### Variable names as Sticky Notes\n",
    "\n",
    "Execute the cell below."
   ]
  },
  {
   "cell_type": "markdown",
   "metadata": {},
   "source": [
    "mass = 47.5\n",
    "age = 122\n",
    "mass = mass * 2.0\n",
    "age = age - 20"
   ]
  },
  {
   "cell_type": "markdown",
   "metadata": {},
   "source": [
    "Predict what the values of mass and age will be after all 4 lines of code in the cell have executed.  \n",
    "\n",
    "Test your predictions by printing the values of both variables."
   ]
  },
  {
   "cell_type": "code",
   "execution_count": null,
   "metadata": {
    "collapsed": true
   },
   "outputs": [],
   "source": []
  },
  {
   "cell_type": "markdown",
   "metadata": {},
   "source": [
    "### Variable names as pointers\n",
    "\n",
    "What does the following program print out?\n",
    "\n",
    "```python\n",
    "first, second = 'Grace', 'Hopper'\n",
    "third, fourth = second, first\n",
    "print(third, fourth)\n",
    "```\n",
    "\n",
    "Predict the output and then test your prediction by entering the code below."
   ]
  },
  {
   "cell_type": "code",
   "execution_count": null,
   "metadata": {
    "collapsed": true
   },
   "outputs": [],
   "source": []
  },
  {
   "cell_type": "markdown",
   "metadata": {},
   "source": [
    "### Slicing strings\n",
    "\n",
    "A section of an array is called a **slice**.\n",
    "We can take slices of character strings as well:\n",
    "```Python\n",
    "element = 'oxygen'\n",
    "print('first three characters:', element[:3])\n",
    "print('last three characters:', element[3:6])\n",
    "```"
   ]
  },
  {
   "cell_type": "code",
   "execution_count": null,
   "metadata": {
    "collapsed": true
   },
   "outputs": [],
   "source": []
  },
  {
   "cell_type": "markdown",
   "metadata": {},
   "source": [
    "What is the value of `element[:4]`?"
   ]
  },
  {
   "cell_type": "code",
   "execution_count": null,
   "metadata": {
    "collapsed": true
   },
   "outputs": [],
   "source": []
  },
  {
   "cell_type": "markdown",
   "metadata": {},
   "source": [
    "What about `element[4:]`?"
   ]
  },
  {
   "cell_type": "code",
   "execution_count": null,
   "metadata": {
    "collapsed": true
   },
   "outputs": [],
   "source": []
  },
  {
   "cell_type": "markdown",
   "metadata": {},
   "source": [
    "Or `element[:]`?`"
   ]
  },
  {
   "cell_type": "code",
   "execution_count": null,
   "metadata": {
    "collapsed": true
   },
   "outputs": [],
   "source": []
  },
  {
   "cell_type": "markdown",
   "metadata": {},
   "source": [
    "What is `element[-1]`?"
   ]
  },
  {
   "cell_type": "code",
   "execution_count": null,
   "metadata": {
    "collapsed": true
   },
   "outputs": [],
   "source": []
  },
  {
   "cell_type": "markdown",
   "metadata": {},
   "source": [
    "What is `element[-2]`?`"
   ]
  },
  {
   "cell_type": "code",
   "execution_count": null,
   "metadata": {
    "collapsed": true
   },
   "outputs": [],
   "source": []
  },
  {
   "cell_type": "markdown",
   "metadata": {},
   "source": [
    "Given those answers,\n",
    "explain what `element[1:-1]` does."
   ]
  },
  {
   "cell_type": "code",
   "execution_count": null,
   "metadata": {
    "collapsed": true
   },
   "outputs": [],
   "source": []
  },
  {
   "cell_type": "markdown",
   "metadata": {},
   "source": [
    "### Plot scaling\n",
    "Why do all of our plots stop just short of the upper end of our graph?\n",
    "\n",
    "If we want to change this, we can use the `set_ylim(min, max)` method of each ‘axes’, for example:\n",
    "```Python\n",
    "axes3.set_ylim(0,6)\n",
    "```\n",
    "Update your plotting code to automatically set a more appropriate scale. (Hint: you can make use of the `max` and `min` methods to help.)"
   ]
  },
  {
   "cell_type": "code",
   "execution_count": null,
   "metadata": {
    "collapsed": true
   },
   "outputs": [],
   "source": []
  },
  {
   "cell_type": "markdown",
   "metadata": {},
   "source": [
    "### Drawing straight lines\n",
    "In the center and right subplots above, we expect all lines to look like step functions, because non-integer value are not realistic for the minimum and maximum values. However, you can see that the lines are not always vertical or horizontal, and in particular the step function in the subplot on the right looks slanted, because `matplotlib` interpolates (draws a straight line) between the points. One way to do avoid this is to use the Matplotlib `drawstyle` option:\n",
    "```Python\n",
    "axes1.set_ylabel('average')\n",
    "axes1.plot(numpy.mean(data, axis=0), drawstyle='steps-mid')\n",
    "```\n",
    "\n",
    "Make a plot of subplots with 1 row and 2 columns, where one of the plots does *not* use the `steps-mid` style and the other one *does*."
   ]
  },
  {
   "cell_type": "code",
   "execution_count": null,
   "metadata": {
    "collapsed": true
   },
   "outputs": [],
   "source": []
  },
  {
   "cell_type": "markdown",
   "metadata": {},
   "source": [
    "### Make Your own Plot\n",
    "Create a plot showing the standard deviation (`numpy.std`) of the inflammation data for each day across all patients."
   ]
  },
  {
   "cell_type": "code",
   "execution_count": null,
   "metadata": {
    "collapsed": true
   },
   "outputs": [],
   "source": []
  },
  {
   "cell_type": "markdown",
   "metadata": {},
   "source": [
    "### Moving plots around\n",
    "Modify the program to display the three plots on top of one another (i.e., in one column with three rows) instead of side by side (i.e in one row with three columns)."
   ]
  },
  {
   "cell_type": "code",
   "execution_count": null,
   "metadata": {
    "collapsed": true
   },
   "outputs": [],
   "source": []
  },
  {
   "cell_type": "markdown",
   "metadata": {},
   "source": [
    "### Stacking arrays\n",
    "What if we have two data files and we want to combine them into one big array?\n",
    "One way to do this is to use `numpy.concatenate`.\n",
    "\n",
    "There are several csv files in the `data` subfolder.\n",
    "As we did above, load `./data/inflammation-01.csv` into one variable with `numpy.loadtext`.\n",
    "Then load `./data/inflammation-02.csv` into a different variable."
   ]
  },
  {
   "cell_type": "code",
   "execution_count": null,
   "metadata": {
    "collapsed": true
   },
   "outputs": [],
   "source": []
  },
  {
   "cell_type": "markdown",
   "metadata": {},
   "source": [
    "Now use `numpy.concatenate` to combine the two matrices that are in different variables.\n",
    "\n",
    "> Remember that you can get help in Jupyter notebooks by typing the function name followed by a > `?`.\n",
    "> \n",
    "> Notice that numpy help tells you the `type` of variable it expects for each argument.\n",
    "> \n",
    "> The `type` of the first argument for `concatenate` should be a sequence, and as shown in the > function signature (the first line of the `docstring`), you can make a sequence just by \n",
    "> putting variables inside parentheses and separating them by commas, like this:\n",
    "> ```Python\n",
    "> (variable1, variable2, variable3)\n",
    "> ```\n",
    "> (When wrapped in parentheses, this sequence is called a `tuple`.)"
   ]
  },
  {
   "cell_type": "code",
   "execution_count": 21,
   "metadata": {
    "collapsed": true
   },
   "outputs": [],
   "source": []
  },
  {
   "cell_type": "markdown",
   "metadata": {},
   "source": [
    "### Change in inflammation\n",
    "This patient data is longitudinal in the sense that each row represents a series of observations relating to one individual. This means that change inflammation is a meaningful concept.\n",
    "\n",
    "The `numpy.diff()` function takes a NumPy array and returns the difference along a specified axis.\n",
    "\n",
    "Which axis would it make sense to use this function along? In this case axis 0 (rows) is patients and axis 1 is days.\n",
    "\n",
    "Apply `numpy.diff` along that axis and store the result in a variable."
   ]
  },
  {
   "cell_type": "code",
   "execution_count": null,
   "metadata": {
    "collapsed": true
   },
   "outputs": [],
   "source": []
  },
  {
   "cell_type": "markdown",
   "metadata": {},
   "source": [
    "If the shape of an individual data file is `(60, 40)` (60 rows and 40 columns), what should the shape of the array be after you run the `diff()` function and why?  \n",
    "\n",
    "What **property** of the variable you just created can you look at to verify you are right? `print` the value of that property using the cell below."
   ]
  },
  {
   "cell_type": "code",
   "execution_count": null,
   "metadata": {
    "collapsed": true
   },
   "outputs": [],
   "source": []
  },
  {
   "cell_type": "markdown",
   "metadata": {},
   "source": [
    "What function can you use to find the largest change in inflammation for each patient? Apply that function to the variable containing the `diff` results."
   ]
  },
  {
   "cell_type": "code",
   "execution_count": null,
   "metadata": {
    "collapsed": true
   },
   "outputs": [],
   "source": []
  },
  {
   "cell_type": "markdown",
   "metadata": {},
   "source": [
    "If a difference is a *decrease*, then the difference will be negative. If you are interested in the **magnitude** of the change and not just the direction, the `numpy.absolute()` function will provide that.\n",
    "\n",
    "Compare the results when you find the largest **absolute** change in inflammation."
   ]
  },
  {
   "cell_type": "code",
   "execution_count": null,
   "metadata": {
    "collapsed": true
   },
   "outputs": [],
   "source": []
  },
  {
   "cell_type": "markdown",
   "metadata": {},
   "source": [
    "## Key points\n",
    "- Import a library into a program using `import libraryname`.\n",
    "- Use the `numpy` library to work with arrays in Python.\n",
    "- Use `variable = value` to assign a value to a variable in order to record it in memory.\n",
    "- Variables are created on demand whenever a value is assigned to them.\n",
    "- Use `print(something)` to display the value of something.\n",
    "- The expression `array.shape` gives the shape of an array.\n",
    "- Use `array[x, y]` to select a single element from a 2D array.\n",
    "- Array indices start at 0, not 1.\n",
    "- Use `low:high` to specify a `slice` that includes the indices from `low` to `high-1`.\n",
    "- All the indexing and slicing that works on arrays also works on strings.\n",
    "- Use `# some kind of explanation` to add comments to programs.\n",
    "- Use `numpy.mean(array)`, `numpy.max(array)`, and `numpy.min(array)` to calculate simple statistics.\n",
    "- Use `numpy.mean(array, axis=0)` or `numpy.mean(array, axis=1)` to calculate statistics across the specified axis.\n",
    "- Use the `pyplot` library from `matplotlib` for creating simple visualizations."
   ]
  }
 ],
 "metadata": {
  "_draft": {
   "nbviewer_url": "https://gist.github.com/f89ec8bc8271395c4466465802ba44a3"
  },
  "anaconda-cloud": {},
  "gist": {
   "data": {
    "description": "python/Introduction to Python.ipynb",
    "public": true
   },
   "id": "f89ec8bc8271395c4466465802ba44a3"
  },
  "kernelspec": {
   "display_name": "Python [Root]",
   "language": "python",
   "name": "Python [Root]"
  },
  "language_info": {
   "codemirror_mode": {
    "name": "ipython",
    "version": 3
   },
   "file_extension": ".py",
   "mimetype": "text/x-python",
   "name": "python",
   "nbconvert_exporter": "python",
   "pygments_lexer": "ipython3",
   "version": "3.5.2"
  },
  "nav_menu": {},
  "toc": {
   "navigate_menu": true,
   "number_sections": false,
   "sideBar": true,
   "threshold": 6,
   "toc_cell": false,
   "toc_section_display": "block",
   "toc_window_display": false
  }
 },
 "nbformat": 4,
 "nbformat_minor": 1
}
