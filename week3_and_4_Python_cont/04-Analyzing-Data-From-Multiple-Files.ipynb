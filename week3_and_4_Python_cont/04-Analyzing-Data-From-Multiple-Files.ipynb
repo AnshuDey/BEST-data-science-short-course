{
 "cells": [
  {
   "cell_type": "markdown",
   "metadata": {},
   "source": [
    "# Part 4.Analyzing Data from Multiple Files\n",
    "Adapted from [Programming with Python](http://swcarpentry.github.io/python-novice-inflammation/), [copyright © Software Carpentry](http://swcarpentry.github.io/python-novice-inflammation/license/), under the Creative Commons license [CC BY 4.0](https://creativecommons.org/licenses/by/4.0/)."
   ]
  },
  {
   "cell_type": "markdown",
   "metadata": {},
   "source": [
    "### Questions\n",
    "* How can I do the same operations on many different files?\n",
    "\n",
    "### Objectives\n",
    "* Use a library function to get a list of filenames that match a wildcard pattern.\n",
    "* Write a `for` loop to process multiple files."
   ]
  },
  {
   "cell_type": "markdown",
   "metadata": {},
   "source": [
    "We now have almost everything we need to process all our data files.\n",
    "The only thing that's missing is a library with a rather unpleasant name:\n",
    "```Python\n",
    "import glob\n",
    "```"
   ]
  },
  {
   "cell_type": "markdown",
   "metadata": {},
   "source": [
    "The `glob` library contains a single function, also called `glob`,\n",
    "that finds files whose names match a pattern.\n",
    "We provide those patterns as strings:\n",
    "the character `*` matches zero or more characters,\n",
    "while `?` matches any one character.\n",
    "We can use this to get the names of all the HTML files in the current directory:\n",
    "\n",
    "```Python\n",
    "from glob import glob\n",
    "\n",
    "glob('*.ipynb')\n",
    "```"
   ]
  },
  {
   "cell_type": "code",
   "execution_count": null,
   "metadata": {
    "collapsed": false
   },
   "outputs": [],
   "source": []
  },
  {
   "cell_type": "markdown",
   "metadata": {},
   "source": [
    "As these examples show,\n",
    "`glob.glob`'s result is a list of strings,\n",
    "which means we can loop over it\n",
    "to do something with each filename in turn.\n",
    "In our case,\n",
    "the \"something\" we want to do is generate a set of plots for each file in our inflammation dataset.\n",
    "Let's test it by analyzing the first three files in the list:\n",
    "```Python\n",
    "filenames = glob('../data/inflammation*.csv')\n",
    "filenames = filenames[0:3]\n",
    "```"
   ]
  },
  {
   "cell_type": "code",
   "execution_count": null,
   "metadata": {
    "collapsed": true
   },
   "outputs": [],
   "source": []
  },
  {
   "cell_type": "code",
   "execution_count": null,
   "metadata": {
    "collapsed": true
   },
   "outputs": [],
   "source": [
    "for f in filenames:\n",
    "    print(f)\n",
    "\n",
    "    data = numpy.loadtxt(fname=f, delimiter=',')\n",
    "\n",
    "    fig = plt.figure(figsize=(10.0, 3.0))\n",
    "\n",
    "    axes1 = fig.add_subplot(1, 3, 1)\n",
    "    axes2 = fig.add_subplot(1, 3, 2)\n",
    "    axes3 = fig.add_subplot(1, 3, 3)\n",
    "\n",
    "    axes1.set_ylabel('average')\n",
    "    axes1.plot(data.mean(axis=0))\n",
    "\n",
    "    axes2.set_ylabel('max')\n",
    "    axes2.plot(data.max(axis=0))\n",
    "\n",
    "    axes3.set_ylabel('min')\n",
    "    axes3.plot(data.min(axis=0))\n",
    "\n",
    "    fig.tight_layout()"
   ]
  },
  {
   "cell_type": "markdown",
   "metadata": {},
   "source": [
    "\n",
    "Sure enough,\n",
    "the maxima of the first two data sets show exactly the same ramp as the first,\n",
    "and their minima show the same staircase structure;\n",
    "a different situation has been revealed in the third dataset,\n",
    "where the maxima are a bit less regular, but the minima are consistently zero."
   ]
  },
  {
   "cell_type": "markdown",
   "metadata": {},
   "source": [
    "## Exercises"
   ]
  },
  {
   "cell_type": "markdown",
   "metadata": {
    "collapsed": true
   },
   "source": [
    "### Plotting Differences\n",
    "\n",
    "Plot the difference between the average of the first dataset and the average of the second dataset, i.e., the difference between the leftmost plot of the first two figures."
   ]
  },
  {
   "cell_type": "code",
   "execution_count": null,
   "metadata": {
    "collapsed": true
   },
   "outputs": [],
   "source": [
    "# pseudocode\n",
    "# import glob, numpy, and matplotlib.pyplot (if you haven't already)\n",
    "\n",
    "# use glob to get all the csv files from './data/' into a list.\n",
    "# Each has a filename like 'inflammation1.csv'\n",
    "\n",
    "# Use numpy.loadtext to load data.\n",
    "# Assign the data from inflammation1.csv to a variable named 'data0'\n",
    "# and the data from inflammation2.csv to a variable naemd 'data1'.\n",
    "# The first argument, fname, should be one filename from your list\n",
    "# That you means you need to index into the list!\n",
    "# Remember you also need to tell loadtxt the delimiter, which is a comma.\n",
    "\n",
    "# I'm giving you the code to make the figure\n",
    "fig = matplotlib.pyplot.figure(figsize=(10.0, 3.0))\n",
    "\n",
    "matplotlib.pyplot.ylabel('Difference in average')\n",
    "matplotlib.pyplot.plot(data0.mean(axis=0) - data1.mean(axis=0))\n",
    "\n",
    "fig.tight_layout()\n",
    "matplotlib.pyplot.show()"
   ]
  },
  {
   "cell_type": "markdown",
   "metadata": {
    "collapsed": true
   },
   "source": [
    "### Generate Composite Statistics\n",
    "\n",
    "Use each of the files once to generate a dataset containing values averaged over all patients.\n",
    "\n",
    "Then use pyplot to generate average, max, and min for all patients."
   ]
  },
  {
   "cell_type": "code",
   "execution_count": null,
   "metadata": {
    "collapsed": true
   },
   "outputs": [],
   "source": [
    "filenames = glob.glob('inflammation*.csv')\n",
    "composite_data = numpy.zeros((60,40))\n",
    "for f in filenames:\n",
    "    # load each file's data into a variable named data\n",
    "    # using loadtxt as we did before\n",
    "\n",
    "    # now add the array loaded into the variable data\n",
    "    # to the array composite_data, using the + operator\n",
    "    # to perform elementwise addition of numpy arrays\n",
    "    # (will look like array1 = array1 + array2)\n",
    "\n",
    "# and then divide the composite_data by number of samples\n",
    "composite_data /= len(filenames)\n",
    "\n",
    "fig = matplotlib.pyplot.figure(figsize=(10.0, 3.0))\n",
    "\n",
    "axes1 = fig.add_subplot(1, 3, 1)\n",
    "axes2 = fig.add_subplot(1, 3, 2)\n",
    "axes3 = fig.add_subplot(1, 3, 3)\n",
    "\n",
    "axes1.set_ylabel('average')\n",
    "axes1.plot(numpy.mean(composite_data, axis=0))\n",
    "\n",
    "axes2.set_ylabel('max')\n",
    "axes2.plot(numpy.max(composite_data, axis=0))\n",
    "\n",
    "axes3.set_ylabel('min')\n",
    "axes3.plot(numpy.min(composite_data, axis=0))\n",
    "\n",
    "fig.tight_layout()\n",
    "\n",
    "matplotlib.pyplot.show()"
   ]
  },
  {
   "cell_type": "markdown",
   "metadata": {},
   "source": [
    "## Key Points\n",
    "* Use `glob.glob(pattern)` to create a list of files whose names match a pattern.\n",
    "* Use `*` in a pattern to match zero or more characters, and `?` to match any single character."
   ]
  }
 ],
 "metadata": {
  "_draft": {
   "nbviewer_url": "https://gist.github.com/f89ec8bc8271395c4466465802ba44a3"
  },
  "anaconda-cloud": {},
  "gist": {
   "data": {
    "description": "python/Introduction to Python.ipynb",
    "public": true
   },
   "id": "f89ec8bc8271395c4466465802ba44a3"
  },
  "kernelspec": {
   "display_name": "Python [Root]",
   "language": "python",
   "name": "Python [Root]"
  },
  "language_info": {
   "codemirror_mode": {
    "name": "ipython",
    "version": 3
   },
   "file_extension": ".py",
   "mimetype": "text/x-python",
   "name": "python",
   "nbconvert_exporter": "python",
   "pygments_lexer": "ipython3",
   "version": "3.5.2"
  },
  "nav_menu": {},
  "toc": {
   "navigate_menu": true,
   "number_sections": false,
   "sideBar": true,
   "threshold": 6,
   "toc_cell": false,
   "toc_section_display": "block",
   "toc_window_display": false
  }
 },
 "nbformat": 4,
 "nbformat_minor": 1
}
